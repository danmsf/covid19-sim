{
 "cells": [
  {
   "cell_type": "code",
   "execution_count": 74,
   "metadata": {},
   "outputs": [],
   "source": [
    "import numpy as np\n",
    "import pandas as pd\n",
    "from statsmodels.tsa.api import Holt\n",
    "import matplotlib.pyplot as plt\n",
    "from statsmodels.tsa.holtwinters import ExponentialSmoothing"
   ]
  },
  {
   "cell_type": "code",
   "execution_count": 79,
   "metadata": {},
   "outputs": [],
   "source": [
    "pathfile = \"C:\\\\Users\\\\User\\\\Downloads\\\\OxCGRT_Download_280420_162625_Full.csv\"\n",
    "data = pd.read_csv(pathfile, parse_dates=['Date'])\n",
    "min_cases = 100"
   ]
  },
  {
   "cell_type": "code",
   "execution_count": 80,
   "metadata": {},
   "outputs": [],
   "source": [
    "# data[(data['corona_days']>=israel_day)&(data['StringencyIndexForDisplay']<israel_stringency)]['StringencyIndexForDisplay'].unique()"
   ]
  },
  {
   "cell_type": "code",
   "execution_count": 81,
   "metadata": {},
   "outputs": [],
   "source": [
    "class naiveModel:\n",
    "    def __init__(df, p):\n",
    "        self.stringency_df = df\n",
    "        self.tau = p.tau\n",
    "        self.init_infected = p.init_infected\n",
    "        self.df = self.calc_df()\n",
    "        \n",
    "#     # st.cache\n",
    "#     def get_file(self):\n",
    "#         return pd.read_csv(pathfile, parse_dates=['Date'])\n",
    "    \n",
    "    def calc_r(self, detected):\n",
    "        epsilon = 1e-06\n",
    "        detected = detected\n",
    "        r_values = np.array([(detected[0] / (self.init_infected + epsilon) - 1) * tau])\n",
    "        for t in range(1, len(detected)):\n",
    "            if t <= self.tau:\n",
    "                r_value = (detected[t] / (detected[t - 1] + epsilon) - 1) * tau\n",
    "            elif t > tau:\n",
    "                r_value = (detected[t] / (\n",
    "                            detected[t - 1] - detected[t - self.tau] + detected[t - self.tau - 1] + epsilon) - 1) * self.tau\n",
    "            r_values = np.append(r_values, max(r_value, 0))\n",
    "            r_adj = np.convolve(r_values, np.ones(int(self.tau, )) / int(self.tau), mode='full')[:len(detected)]\n",
    "            r_adj = np.clip(r_adj, 0, 100)\n",
    "        self.r_values, self.r_adj, self.r0d = r_values, r_adj, r_adj\n",
    "    \n",
    "    def norm_r(self, df):\n",
    "        # calculate corona days and cutoff\n",
    "        df = df[df['ConfirmedCases'] >= self.min_cases]\n",
    "        df['day0'] = df.groupby('CountryName')['Date'].transform(min)\n",
    "        df['corona_days'] = (df['Date'] - df['day0']).dt.days\n",
    "\n",
    "        # get todays Israel day - and current R and S\n",
    "        israel_day = df[df['CountryName']=='Israel']['corona_days'].max()\n",
    "        israel_stringency = df[(df['CountryName']=='Israel')&(df['corona_days']==israel_day)]['StringencyIndexForDisplay'].max()\n",
    "        israel_r = data[(data['CountryName']=='Israel')&(data['corona_days']==israel_day)]['r_adj'].max()\n",
    "\n",
    "        # Normalize countries Rs to today's Israels R\n",
    "        countryd_r = df[(df['corona_days']==israel_day)][['CountryName','r_adj']]\n",
    "        countryd_r['norm_r'] = israel_r - countryd_r['r_adj']\n",
    "        df = pd.merge(df, countryd_r[['CountryName','norm_r']])\n",
    "        df['r_adjn'] = df['r_adj'] +  df['norm_r']\n",
    "        return df\n",
    "    \n",
    "    def calc_df(self):\n",
    "        df = self.stringency_df\n",
    "        df = df.groupby('CountryName')['ConfirmedCases'].transform(lambda x: self.calc_r(x.values))\n",
    "        df = self.norm_r(df)\n",
    "        return df\n",
    "    \n",
    "    # logic for choosing countries is external\n",
    "    # expecting input of type: df[df.CountryName.isin(countryList)]\n",
    "    @static\n",
    "    def avgCountries(df):\n",
    "        countries_avg = df.groupby('corona_days').mean()\n",
    "        return countries_avg\n",
    "    \n",
    "\n",
    "# data[(data['corona_days']>=israel_day)].groupby('CountryName')['StringencyIndexForDisplay'].count()"
   ]
  },
  {
   "cell_type": "code",
   "execution_count": 82,
   "metadata": {},
   "outputs": [],
   "source": [
    "# data[(data['corona_days']>=israel_day)&(data['StringencyIndexForDisplay']<israel_stringency)]"
   ]
  },
  {
   "cell_type": "code",
   "execution_count": 118,
   "metadata": {},
   "outputs": [],
   "source": [
    "def calc_r(detected, tau, init_infected):\n",
    "    epsilon = 1e-06\n",
    "    len_in = len(detected)\n",
    "    r_values = np.array(\n",
    "        [(detected[0] / (init_infected + epsilon) - 1) * tau])\n",
    "    for t in range(1, len(detected)):\n",
    "        if t <= tau:  # Ephraim\n",
    "            r_value = (detected[t] - detected[t - 1]) / \\\n",
    "                       (detected[t - 1]) * tau\n",
    "        elif t > tau:\n",
    "            r_value = (detected[t] - detected[t - 1]) / \\\n",
    "                       (detected[t - 1] - detected[t - tau]+ epsilon) * tau\n",
    "        r_values = np.append(r_values, max(r_value, 0))\n",
    "    r_values = np.nan_to_num(r_values,nan=0.001,posinf=0.001,neginf=0.001)\n",
    "    r_values = np.clip(r_values, 0.001, 15) \n",
    "    r_st = []\n",
    "    for i in np.arange(len(r_values)):\n",
    "        aleft = r_values[np.max([0, i - 2]):i] \n",
    "        aright = r_values[(i+1 ):(i +3)] \n",
    "        conc = np.concatenate((aleft, aright))\n",
    "        tmpmean = np.mean(conc)\n",
    "#         print(tmpmean)\n",
    "        score = abs(r_values[i]/tmpmean)\n",
    "        if (score > 2.0 and r_values[i] > np.max(conc)): \n",
    "            r_st = np.append(r_st, tmpmean)\n",
    "        else:\n",
    "            r_st = np.append(r_st, r_values[i])        \n",
    "    double_model = ExponentialSmoothing( r_st, trend='add').fit(smoothing_level=0.20)\n",
    "    ysmooth = double_model.fittedvalues \n",
    "    ysmooth[ysmooth<=0] = 0.0000001\n",
    "#     print('ysmooth',ysmooth)\n",
    "    r_adj = ysmooth \n",
    "#     print(len_in-len(r_adj))\n",
    "    r_adj = np.pad(r_adj, (len_in-len(r_adj),), 'constant', constant_values=(0))\n",
    "    return r_adj"
   ]
  },
  {
   "cell_type": "code",
   "execution_count": 119,
   "metadata": {},
   "outputs": [
    {
     "name": "stderr",
     "output_type": "stream",
     "text": [
      "C:\\ProgramData\\Miniconda3\\lib\\site-packages\\ipykernel_launcher.py:9: RuntimeWarning: invalid value encountered in double_scalars\n",
      "  if __name__ == '__main__':\n"
     ]
    },
    {
     "data": {
      "text/plain": [
       "119"
      ]
     },
     "execution_count": 119,
     "metadata": {},
     "output_type": "execute_result"
    }
   ],
   "source": [
    "len(calc_r(data.loc[data['CountryName']=='Israel','ConfirmedCases'].values,14, 0.))"
   ]
  },
  {
   "cell_type": "code",
   "execution_count": 131,
   "metadata": {},
   "outputs": [
    {
     "name": "stderr",
     "output_type": "stream",
     "text": [
      "C:\\ProgramData\\Miniconda3\\lib\\site-packages\\statsmodels\\tsa\\holtwinters.py:731: RuntimeWarning: invalid value encountered in greater_equal\n",
      "  loc = initial_p >= ub\n",
      "C:\\ProgramData\\Miniconda3\\lib\\site-packages\\statsmodels\\tsa\\holtwinters.py:744: ConvergenceWarning: Optimization failed to converge. Check mle_retvals.\n",
      "  ConvergenceWarning)\n",
      "C:\\ProgramData\\Miniconda3\\lib\\site-packages\\statsmodels\\tsa\\holtwinters.py:744: ConvergenceWarning: Optimization failed to converge. Check mle_retvals.\n",
      "  ConvergenceWarning)\n",
      "C:\\ProgramData\\Miniconda3\\lib\\site-packages\\statsmodels\\tsa\\holtwinters.py:744: ConvergenceWarning: Optimization failed to converge. Check mle_retvals.\n",
      "  ConvergenceWarning)\n",
      "C:\\ProgramData\\Miniconda3\\lib\\site-packages\\statsmodels\\tsa\\holtwinters.py:744: ConvergenceWarning: Optimization failed to converge. Check mle_retvals.\n",
      "  ConvergenceWarning)\n",
      "C:\\ProgramData\\Miniconda3\\lib\\site-packages\\statsmodels\\tsa\\holtwinters.py:744: ConvergenceWarning: Optimization failed to converge. Check mle_retvals.\n",
      "  ConvergenceWarning)\n",
      "C:\\ProgramData\\Miniconda3\\lib\\site-packages\\statsmodels\\tsa\\holtwinters.py:744: ConvergenceWarning: Optimization failed to converge. Check mle_retvals.\n",
      "  ConvergenceWarning)\n",
      "C:\\ProgramData\\Miniconda3\\lib\\site-packages\\statsmodels\\tsa\\holtwinters.py:744: ConvergenceWarning: Optimization failed to converge. Check mle_retvals.\n",
      "  ConvergenceWarning)\n",
      "C:\\ProgramData\\Miniconda3\\lib\\site-packages\\statsmodels\\tsa\\holtwinters.py:744: ConvergenceWarning: Optimization failed to converge. Check mle_retvals.\n",
      "  ConvergenceWarning)\n",
      "C:\\ProgramData\\Miniconda3\\lib\\site-packages\\statsmodels\\tsa\\holtwinters.py:744: ConvergenceWarning: Optimization failed to converge. Check mle_retvals.\n",
      "  ConvergenceWarning)\n",
      "C:\\ProgramData\\Miniconda3\\lib\\site-packages\\statsmodels\\tsa\\holtwinters.py:744: ConvergenceWarning: Optimization failed to converge. Check mle_retvals.\n",
      "  ConvergenceWarning)\n",
      "C:\\ProgramData\\Miniconda3\\lib\\site-packages\\statsmodels\\tsa\\holtwinters.py:744: ConvergenceWarning: Optimization failed to converge. Check mle_retvals.\n",
      "  ConvergenceWarning)\n",
      "C:\\ProgramData\\Miniconda3\\lib\\site-packages\\statsmodels\\tsa\\holtwinters.py:744: ConvergenceWarning: Optimization failed to converge. Check mle_retvals.\n",
      "  ConvergenceWarning)\n",
      "C:\\ProgramData\\Miniconda3\\lib\\site-packages\\statsmodels\\tsa\\holtwinters.py:744: ConvergenceWarning: Optimization failed to converge. Check mle_retvals.\n",
      "  ConvergenceWarning)\n",
      "C:\\ProgramData\\Miniconda3\\lib\\site-packages\\statsmodels\\tsa\\holtwinters.py:744: ConvergenceWarning: Optimization failed to converge. Check mle_retvals.\n",
      "  ConvergenceWarning)\n",
      "C:\\ProgramData\\Miniconda3\\lib\\site-packages\\statsmodels\\tsa\\holtwinters.py:744: ConvergenceWarning: Optimization failed to converge. Check mle_retvals.\n",
      "  ConvergenceWarning)\n",
      "C:\\ProgramData\\Miniconda3\\lib\\site-packages\\statsmodels\\tsa\\holtwinters.py:744: ConvergenceWarning: Optimization failed to converge. Check mle_retvals.\n",
      "  ConvergenceWarning)\n",
      "C:\\ProgramData\\Miniconda3\\lib\\site-packages\\statsmodels\\tsa\\holtwinters.py:744: ConvergenceWarning: Optimization failed to converge. Check mle_retvals.\n",
      "  ConvergenceWarning)\n",
      "C:\\ProgramData\\Miniconda3\\lib\\site-packages\\statsmodels\\tsa\\holtwinters.py:744: ConvergenceWarning: Optimization failed to converge. Check mle_retvals.\n",
      "  ConvergenceWarning)\n",
      "C:\\ProgramData\\Miniconda3\\lib\\site-packages\\statsmodels\\tsa\\holtwinters.py:744: ConvergenceWarning: Optimization failed to converge. Check mle_retvals.\n",
      "  ConvergenceWarning)\n",
      "C:\\ProgramData\\Miniconda3\\lib\\site-packages\\statsmodels\\tsa\\holtwinters.py:744: ConvergenceWarning: Optimization failed to converge. Check mle_retvals.\n",
      "  ConvergenceWarning)\n",
      "C:\\ProgramData\\Miniconda3\\lib\\site-packages\\statsmodels\\tsa\\holtwinters.py:744: ConvergenceWarning: Optimization failed to converge. Check mle_retvals.\n",
      "  ConvergenceWarning)\n",
      "C:\\ProgramData\\Miniconda3\\lib\\site-packages\\statsmodels\\tsa\\holtwinters.py:744: ConvergenceWarning: Optimization failed to converge. Check mle_retvals.\n",
      "  ConvergenceWarning)\n",
      "C:\\ProgramData\\Miniconda3\\lib\\site-packages\\statsmodels\\tsa\\holtwinters.py:744: ConvergenceWarning: Optimization failed to converge. Check mle_retvals.\n",
      "  ConvergenceWarning)\n",
      "C:\\ProgramData\\Miniconda3\\lib\\site-packages\\statsmodels\\tsa\\holtwinters.py:744: ConvergenceWarning: Optimization failed to converge. Check mle_retvals.\n",
      "  ConvergenceWarning)\n",
      "C:\\ProgramData\\Miniconda3\\lib\\site-packages\\statsmodels\\tsa\\holtwinters.py:744: ConvergenceWarning: Optimization failed to converge. Check mle_retvals.\n",
      "  ConvergenceWarning)\n",
      "C:\\ProgramData\\Miniconda3\\lib\\site-packages\\statsmodels\\tsa\\holtwinters.py:744: ConvergenceWarning: Optimization failed to converge. Check mle_retvals.\n",
      "  ConvergenceWarning)\n",
      "C:\\ProgramData\\Miniconda3\\lib\\site-packages\\statsmodels\\tsa\\holtwinters.py:744: ConvergenceWarning: Optimization failed to converge. Check mle_retvals.\n",
      "  ConvergenceWarning)\n",
      "C:\\ProgramData\\Miniconda3\\lib\\site-packages\\statsmodels\\tsa\\holtwinters.py:744: ConvergenceWarning: Optimization failed to converge. Check mle_retvals.\n",
      "  ConvergenceWarning)\n",
      "C:\\ProgramData\\Miniconda3\\lib\\site-packages\\statsmodels\\tsa\\holtwinters.py:744: ConvergenceWarning: Optimization failed to converge. Check mle_retvals.\n",
      "  ConvergenceWarning)\n",
      "C:\\ProgramData\\Miniconda3\\lib\\site-packages\\statsmodels\\tsa\\holtwinters.py:744: ConvergenceWarning: Optimization failed to converge. Check mle_retvals.\n",
      "  ConvergenceWarning)\n",
      "C:\\ProgramData\\Miniconda3\\lib\\site-packages\\statsmodels\\tsa\\holtwinters.py:744: ConvergenceWarning: Optimization failed to converge. Check mle_retvals.\n",
      "  ConvergenceWarning)\n",
      "C:\\ProgramData\\Miniconda3\\lib\\site-packages\\statsmodels\\tsa\\holtwinters.py:744: ConvergenceWarning: Optimization failed to converge. Check mle_retvals.\n",
      "  ConvergenceWarning)\n",
      "C:\\ProgramData\\Miniconda3\\lib\\site-packages\\statsmodels\\tsa\\holtwinters.py:744: ConvergenceWarning: Optimization failed to converge. Check mle_retvals.\n",
      "  ConvergenceWarning)\n",
      "C:\\ProgramData\\Miniconda3\\lib\\site-packages\\statsmodels\\tsa\\holtwinters.py:744: ConvergenceWarning: Optimization failed to converge. Check mle_retvals.\n",
      "  ConvergenceWarning)\n",
      "C:\\ProgramData\\Miniconda3\\lib\\site-packages\\statsmodels\\tsa\\holtwinters.py:744: ConvergenceWarning: Optimization failed to converge. Check mle_retvals.\n",
      "  ConvergenceWarning)\n",
      "C:\\ProgramData\\Miniconda3\\lib\\site-packages\\statsmodels\\tsa\\holtwinters.py:744: ConvergenceWarning: Optimization failed to converge. Check mle_retvals.\n",
      "  ConvergenceWarning)\n",
      "C:\\ProgramData\\Miniconda3\\lib\\site-packages\\statsmodels\\tsa\\holtwinters.py:744: ConvergenceWarning: Optimization failed to converge. Check mle_retvals.\n",
      "  ConvergenceWarning)\n",
      "C:\\ProgramData\\Miniconda3\\lib\\site-packages\\statsmodels\\tsa\\holtwinters.py:744: ConvergenceWarning: Optimization failed to converge. Check mle_retvals.\n",
      "  ConvergenceWarning)\n",
      "C:\\ProgramData\\Miniconda3\\lib\\site-packages\\statsmodels\\tsa\\holtwinters.py:744: ConvergenceWarning: Optimization failed to converge. Check mle_retvals.\n",
      "  ConvergenceWarning)\n",
      "C:\\ProgramData\\Miniconda3\\lib\\site-packages\\statsmodels\\tsa\\holtwinters.py:744: ConvergenceWarning: Optimization failed to converge. Check mle_retvals.\n",
      "  ConvergenceWarning)\n",
      "C:\\ProgramData\\Miniconda3\\lib\\site-packages\\statsmodels\\tsa\\holtwinters.py:744: ConvergenceWarning: Optimization failed to converge. Check mle_retvals.\n",
      "  ConvergenceWarning)\n",
      "C:\\ProgramData\\Miniconda3\\lib\\site-packages\\statsmodels\\tsa\\holtwinters.py:744: ConvergenceWarning: Optimization failed to converge. Check mle_retvals.\n",
      "  ConvergenceWarning)\n",
      "C:\\ProgramData\\Miniconda3\\lib\\site-packages\\statsmodels\\tsa\\holtwinters.py:744: ConvergenceWarning: Optimization failed to converge. Check mle_retvals.\n",
      "  ConvergenceWarning)\n",
      "C:\\ProgramData\\Miniconda3\\lib\\site-packages\\statsmodels\\tsa\\holtwinters.py:744: ConvergenceWarning: Optimization failed to converge. Check mle_retvals.\n",
      "  ConvergenceWarning)\n",
      "C:\\ProgramData\\Miniconda3\\lib\\site-packages\\statsmodels\\tsa\\holtwinters.py:744: ConvergenceWarning: Optimization failed to converge. Check mle_retvals.\n",
      "  ConvergenceWarning)\n",
      "C:\\ProgramData\\Miniconda3\\lib\\site-packages\\statsmodels\\tsa\\holtwinters.py:744: ConvergenceWarning: Optimization failed to converge. Check mle_retvals.\n",
      "  ConvergenceWarning)\n",
      "C:\\ProgramData\\Miniconda3\\lib\\site-packages\\statsmodels\\tsa\\holtwinters.py:744: ConvergenceWarning: Optimization failed to converge. Check mle_retvals.\n",
      "  ConvergenceWarning)\n",
      "C:\\ProgramData\\Miniconda3\\lib\\site-packages\\ipykernel_launcher.py:1: SettingWithCopyWarning: \n",
      "A value is trying to be set on a copy of a slice from a DataFrame.\n",
      "Try using .loc[row_indexer,col_indexer] = value instead\n",
      "\n",
      "See the caveats in the documentation: http://pandas.pydata.org/pandas-docs/stable/user_guide/indexing.html#returning-a-view-versus-a-copy\n",
      "  \"\"\"Entry point for launching an IPython kernel.\n"
     ]
    }
   ],
   "source": [
    "data['r_adj'] = data.groupby('CountryName')['ConfirmedCases'].transform(lambda x: calc_r(x.values,14,50))"
   ]
  },
  {
   "cell_type": "code",
   "execution_count": 225,
   "metadata": {},
   "outputs": [],
   "source": [
    "# calculate corona days and cutoff\n",
    "data = data[data['ConfirmedCases'] >= min_cases]\n",
    "data['day0'] = data.groupby('CountryName')['Date'].transform(min)\n",
    "data['corona_days'] = (data['Date'] - data['day0']).dt.days\n",
    "\n",
    "# get todays Israel day - and current R and S\n",
    "israel_day = data[data['CountryName']=='Israel']['corona_days'].max()\n",
    "israel_stringency = data[(data['CountryName']=='Israel')&(data['corona_days']==israel_day)]['StringencyIndexForDisplay'].max()\n",
    "israel_r = data[(data['CountryName']=='Israel')&(data['corona_days']==israel_day)]['r_adj'].max()\n",
    "\n",
    "# Normalize countries Rs to today's Israels R\n",
    "countryd_r = data[(data['corona_days']==israel_day)][['CountryName','r_adj']]\n",
    "countryd_r['norm_r'] = israel_r - countryd_r['r_adj']\n",
    "data = pd.merge(data, countryd_r[['CountryName','norm_r']])\n",
    "data['r_adjn'] = data['r_adj'] +  data['norm_r']"
   ]
  },
  {
   "cell_type": "code",
   "execution_count": 233,
   "metadata": {},
   "outputs": [],
   "source": [
    "# subselect group by S logic to implement ... \n",
    "# subselect = \n",
    "# data = data[subselect]\n",
    "\n",
    "# calcualte average RNorm by day:\n",
    "Rnorm = data.groupby('corona_days', as_index=False)['r_adj'].mean()"
   ]
  },
  {
   "cell_type": "code",
   "execution_count": 235,
   "metadata": {},
   "outputs": [
    {
     "data": {
      "text/plain": [
       "<matplotlib.axes._subplots.AxesSubplot at 0x1dc160cd748>"
      ]
     },
     "execution_count": 235,
     "metadata": {},
     "output_type": "execute_result"
    },
    {
     "data": {
      "image/png": "[encoded data removed]",
      "text/plain": [
       "<Figure size 432x288 with 1 Axes>"
      ]
     },
     "metadata": {
      "needs_background": "light"
     },
     "output_type": "display_data"
    }
   ],
   "source": [
    "Rnorm.set_index('corona_days').plot()"
   ]
  },
  {
   "cell_type": "code",
   "execution_count": 140,
   "metadata": {},
   "outputs": [],
   "source": [
    "data['max_r'] = data.groupby('CountryName')['r_adj'].transform(max)"
   ]
  },
  {
   "cell_type": "code",
   "execution_count": null,
   "metadata": {},
   "outputs": [],
   "source": []
  },
  {
   "cell_type": "code",
   "execution_count": null,
   "metadata": {},
   "outputs": [],
   "source": []
  },
  {
   "cell_type": "code",
   "execution_count": null,
   "metadata": {},
   "outputs": [],
   "source": []
  },
  {
   "cell_type": "code",
   "execution_count": null,
   "metadata": {},
   "outputs": [],
   "source": []
  },
  {
   "cell_type": "code",
   "execution_count": null,
   "metadata": {},
   "outputs": [],
   "source": []
  },
  {
   "cell_type": "code",
   "execution_count": 147,
   "metadata": {},
   "outputs": [],
   "source": [
    "max_r_day = data[data['r_adj']==data['max_r']][['CountryName','Date']]\n",
    "max_r_day = max_r_day.rename(columns={'Date':'maxr_date'})"
   ]
  },
  {
   "cell_type": "code",
   "execution_count": 150,
   "metadata": {},
   "outputs": [],
   "source": [
    "data = pd.merge(data, max_r_day, left_on=['CountryName'], right_on=['CountryName'])"
   ]
  },
  {
   "cell_type": "code",
   "execution_count": 153,
   "metadata": {},
   "outputs": [],
   "source": [
    "data = data[data['Date']>data['maxr_date']]"
   ]
  },
  {
   "cell_type": "code",
   "execution_count": 156,
   "metadata": {},
   "outputs": [
    {
     "name": "stderr",
     "output_type": "stream",
     "text": [
      "C:\\ProgramData\\Miniconda3\\lib\\site-packages\\ipykernel_launcher.py:1: SettingWithCopyWarning: \n",
      "A value is trying to be set on a copy of a slice from a DataFrame.\n",
      "Try using .loc[row_indexer,col_indexer] = value instead\n",
      "\n",
      "See the caveats in the documentation: http://pandas.pydata.org/pandas-docs/stable/user_guide/indexing.html#returning-a-view-versus-a-copy\n",
      "  \"\"\"Entry point for launching an IPython kernel.\n"
     ]
    }
   ],
   "source": [
    "data['dR'] = data.groupby('CountryName')['r_adj'].transform(lambda x: x - x.shift(1))"
   ]
  },
  {
   "cell_type": "code",
   "execution_count": 158,
   "metadata": {},
   "outputs": [
    {
     "name": "stderr",
     "output_type": "stream",
     "text": [
      "C:\\ProgramData\\Miniconda3\\lib\\site-packages\\ipykernel_launcher.py:1: SettingWithCopyWarning: \n",
      "A value is trying to be set on a copy of a slice from a DataFrame.\n",
      "Try using .loc[row_indexer,col_indexer] = value instead\n",
      "\n",
      "See the caveats in the documentation: http://pandas.pydata.org/pandas-docs/stable/user_guide/indexing.html#returning-a-view-versus-a-copy\n",
      "  \"\"\"Entry point for launching an IPython kernel.\n"
     ]
    }
   ],
   "source": [
    "data['dS'] = data.groupby('CountryName')['StringencyIndexForDisplay'].transform(lambda x: x - x.shift(1))\n",
    "# data['r_adjlag']"
   ]
  },
  {
   "cell_type": "code",
   "execution_count": 159,
   "metadata": {},
   "outputs": [],
   "source": [
    "regdata = data[['CountryName', 'dR', 'dS', 'corona_days', 'StringencyIndexForDisplay', 'r_adj']]"
   ]
  },
  {
   "cell_type": "code",
   "execution_count": 162,
   "metadata": {},
   "outputs": [],
   "source": [
    "import statsmodels.api as sm"
   ]
  },
  {
   "cell_type": "code",
   "execution_count": 172,
   "metadata": {},
   "outputs": [
    {
     "name": "stdout",
     "output_type": "stream",
     "text": [
      "                            OLS Regression Results                            \n",
      "==============================================================================\n",
      "Dep. Variable:                  r_adj   R-squared:                       0.197\n",
      "Model:                            OLS   Adj. R-squared:                  0.197\n",
      "Method:                 Least Squares   F-statistic:                     886.9\n",
      "Date:                Wed, 29 Apr 2020   Prob (F-statistic):          1.69e-174\n",
      "Time:                        20:41:37   Log-Likelihood:                -6698.4\n",
      "No. Observations:                3619   AIC:                         1.340e+04\n",
      "Df Residuals:                    3617   BIC:                         1.341e+04\n",
      "Df Model:                           1                                         \n",
      "Covariance Type:            nonrobust                                         \n",
      "===============================================================================\n",
      "                  coef    std err          t      P>|t|      [0.025      0.975]\n",
      "-------------------------------------------------------------------------------\n",
      "const           2.9602      0.053     55.545      0.000       2.856       3.065\n",
      "corona_days    -0.0543      0.002    -29.781      0.000      -0.058      -0.051\n",
      "==============================================================================\n",
      "Omnibus:                     2501.553   Durbin-Watson:                   0.203\n",
      "Prob(Omnibus):                  0.000   Jarque-Bera (JB):            47762.688\n",
      "Skew:                           3.060   Prob(JB):                         0.00\n",
      "Kurtosis:                      19.712   Cond. No.                         60.9\n",
      "==============================================================================\n",
      "\n",
      "Warnings:\n",
      "[1] Standard Errors assume that the covariance matrix of the errors is correctly specified.\n"
     ]
    }
   ],
   "source": [
    "# x_vars = ['StringencyIndexForDisplay', 'corona_days']\n",
    "x_vars = ['corona_days']\n",
    "y_var = ['r_adj']\n",
    "regdata2 = regdata.copy()\n",
    "regdata2 = regdata2[y_var + x_vars].dropna()\n",
    "y = regdata2[y_var]\n",
    "X = regdata2[x_vars]\n",
    "X = sm.add_constant(X)\n",
    "model = sm.OLS(y, X)\n",
    "results = model.fit()\n",
    "print(results.summary())"
   ]
  },
  {
   "cell_type": "code",
   "execution_count": 187,
   "metadata": {},
   "outputs": [],
   "source": [
    "ldata = data2[['CountryName', 'r_adj', 'corona_days']].dropna()"
   ]
  },
  {
   "cell_type": "code",
   "execution_count": 222,
   "metadata": {},
   "outputs": [],
   "source": [
    "import numpy as np\n",
    "import statsmodels.api as sm\n",
    "lowess = sm.nonparametric.lowess\n",
    "# x = np.random.uniform(low = -2*np.pi, high = 2*np.pi, size=500)\n",
    "# y = np.sin(x) + np.random.normal(size=len(x))\n",
    "# z = lowess(y, x)\n",
    "# w = lowess(y, x, frac=1./3)\n",
    "def freg(x):\n",
    "    return lowess(x.r_adj.values,x.corona_days.values)\n",
    "il_data = ldata.loc[ldata.CountryName=='China', ['r_adj','corona_days']]"
   ]
  },
  {
   "cell_type": "code",
   "execution_count": 223,
   "metadata": {},
   "outputs": [],
   "source": [
    "il_data['est'] = lowess(il_data['r_adj'], il_data['corona_days'],frac= 1./10, it=0)[:,1]"
   ]
  },
  {
   "cell_type": "code",
   "execution_count": 224,
   "metadata": {},
   "outputs": [
    {
     "data": {
      "text/plain": [
       "<matplotlib.axes._subplots.AxesSubplot at 0x1dc15e3b1c8>"
      ]
     },
     "execution_count": 224,
     "metadata": {},
     "output_type": "execute_result"
    },
    {
     "data": {
      "image/png": "[encoded data removed]",
      "text/plain": [
       "<Figure size 432x288 with 1 Axes>"
      ]
     },
     "metadata": {
      "needs_background": "light"
     },
     "output_type": "display_data"
    }
   ],
   "source": [
    "il_data = il_data.set_index('corona_days')\n",
    "il_data[['r_adj','est']].plot()"
   ]
  },
  {
   "cell_type": "code",
   "execution_count": null,
   "metadata": {},
   "outputs": [],
   "source": []
  }
 ],
 "metadata": {
  "kernelspec": {
   "display_name": "Python 3",
   "language": "python",
   "name": "python3"
  },
  "language_info": {
   "codemirror_mode": {
    "name": "ipython",
    "version": 3
   },
   "file_extension": ".py",
   "mimetype": "text/x-python",
   "name": "python",
   "nbconvert_exporter": "python",
   "pygments_lexer": "ipython3",
   "version": "3.7.4"
  }
 },
 "nbformat": 4,
 "nbformat_minor": 4
}
